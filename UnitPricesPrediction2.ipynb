{
  "nbformat": 4,
  "nbformat_minor": 0,
  "metadata": {
    "colab": {
      "name": "UnitPricesPrediction2.ipynb",
      "provenance": [],
      "collapsed_sections": [
        "cFqN2Oq4e6_3",
        "GILV-WQe7cez",
        "fuRvMpyqvG1D",
        "xF_PbJtruvAc"
      ],
      "toc_visible": true,
      "include_colab_link": true
    },
    "kernelspec": {
      "display_name": "Python 3",
      "language": "python",
      "name": "python3"
    },
    "language_info": {
      "codemirror_mode": {
        "name": "ipython",
        "version": 3
      },
      "file_extension": ".py",
      "mimetype": "text/x-python",
      "name": "python",
      "nbconvert_exporter": "python",
      "pygments_lexer": "ipython3",
      "version": "3.6.12"
    },
    "toc": {
      "base_numbering": 1,
      "nav_menu": {},
      "number_sections": true,
      "sideBar": true,
      "skip_h1_title": false,
      "title_cell": "Table of Contents",
      "title_sidebar": "Contents",
      "toc_cell": false,
      "toc_position": {},
      "toc_section_display": true,
      "toc_window_display": false
    }
  },
  "cells": [
    {
      "cell_type": "markdown",
      "metadata": {
        "id": "view-in-github",
        "colab_type": "text"
      },
      "source": [
        "<a href=\"https://colab.research.google.com/github/PhaneendraYedidi/MachineHackHackathon/blob/main/UnitPricesPrediction2.ipynb\" target=\"_parent\"><img src=\"https://colab.research.google.com/assets/colab-badge.svg\" alt=\"Open In Colab\"/></a>"
      ]
    },
    {
      "cell_type": "code",
      "metadata": {
        "id": "z1TMrGiq5_g6"
      },
      "source": [
        "import pandas as pd\n",
        "import numpy as np\n",
        "from sklearn import metrics\n",
        "import matplotlib.pyplot as plt\n",
        "import seaborn as sns\n",
        "from sklearn.model_selection import train_test_split\n",
        "from sklearn.model_selection import GridSearchCV \n",
        "from sklearn.model_selection import RandomizedSearchCV \n",
        "\n",
        "from sklearn.linear_model import LinearRegression\n",
        "from sklearn.linear_model import Lasso\n",
        "from sklearn.linear_model import ElasticNet\n",
        "from sklearn.tree import DecisionTreeRegressor\n",
        "from sklearn.neighbors import KNeighborsRegressor\n",
        "from sklearn.ensemble import GradientBoostingRegressor\n",
        "from sklearn.preprocessing import MinMaxScaler\n",
        "from sklearn.model_selection import KFold\n",
        "from sklearn.model_selection import cross_val_score\n",
        "\n",
        "import warnings\n",
        "warnings.filterwarnings(\"ignore\")\n"
      ],
      "execution_count": null,
      "outputs": []
    },
    {
      "cell_type": "code",
      "metadata": {
        "colab": {
          "base_uri": "https://localhost:8080/"
        },
        "id": "Kx2GpqxU7Sbm",
        "outputId": "392b7a40-afbe-4cf9-91e1-d6cafc0a810e"
      },
      "source": [
        "#Mounting the Google drive\n",
        "from google.colab import drive\n",
        "drive.mount('/content/drive')"
      ],
      "execution_count": null,
      "outputs": [
        {
          "output_type": "stream",
          "text": [
            "Drive already mounted at /content/drive; to attempt to forcibly remount, call drive.mount(\"/content/drive\", force_remount=True).\n"
          ],
          "name": "stdout"
        }
      ]
    },
    {
      "cell_type": "code",
      "metadata": {
        "id": "YLmbhVoK8I2r"
      },
      "source": [
        "#Reading the train and test data from drive\n",
        "pathExt = 'drive/MyDrive/HackathonData/'\n",
        "trainData = pd.read_csv(pathExt + \"Train.csv\")\n",
        "testData = pd.read_csv(pathExt + \"Test.csv\")"
      ],
      "execution_count": null,
      "outputs": []
    },
    {
      "cell_type": "markdown",
      "metadata": {
        "id": "syM3mQAJAhi-"
      },
      "source": [
        "Business Constraints:\n",
        "\n",
        "*   Multivariate Regression\n",
        "*   Big dataset, underfitting vs overfitting\n",
        "*   Optimizing RMSE to generalize well on unseen data\n",
        "\n",
        "\n",
        "\n",
        "\n"
      ]
    },
    {
      "cell_type": "markdown",
      "metadata": {
        "id": "cyI0wrE5n8nB"
      },
      "source": [
        "#Data Cleaning"
      ]
    },
    {
      "cell_type": "code",
      "metadata": {
        "colab": {
          "base_uri": "https://localhost:8080/",
          "height": 195
        },
        "id": "s5p38xS09Jw9",
        "outputId": "2b29452e-dd76-47de-e4ac-26dfd6edacd9"
      },
      "source": [
        "trainData.head()\n",
        "#trainData.value_counts()"
      ],
      "execution_count": null,
      "outputs": [
        {
          "output_type": "execute_result",
          "data": {
            "text/html": [
              "<div>\n",
              "<style scoped>\n",
              "    .dataframe tbody tr th:only-of-type {\n",
              "        vertical-align: middle;\n",
              "    }\n",
              "\n",
              "    .dataframe tbody tr th {\n",
              "        vertical-align: top;\n",
              "    }\n",
              "\n",
              "    .dataframe thead th {\n",
              "        text-align: right;\n",
              "    }\n",
              "</style>\n",
              "<table border=\"1\" class=\"dataframe\">\n",
              "  <thead>\n",
              "    <tr style=\"text-align: right;\">\n",
              "      <th></th>\n",
              "      <th>InvoiceNo</th>\n",
              "      <th>StockCode</th>\n",
              "      <th>Description</th>\n",
              "      <th>Quantity</th>\n",
              "      <th>InvoiceDate</th>\n",
              "      <th>UnitPrice</th>\n",
              "      <th>CustomerID</th>\n",
              "      <th>Country</th>\n",
              "    </tr>\n",
              "  </thead>\n",
              "  <tbody>\n",
              "    <tr>\n",
              "      <th>0</th>\n",
              "      <td>6141</td>\n",
              "      <td>1583</td>\n",
              "      <td>144</td>\n",
              "      <td>3</td>\n",
              "      <td>2011-05-06 16:54:00</td>\n",
              "      <td>3.75</td>\n",
              "      <td>14056.0</td>\n",
              "      <td>35</td>\n",
              "    </tr>\n",
              "    <tr>\n",
              "      <th>1</th>\n",
              "      <td>6349</td>\n",
              "      <td>1300</td>\n",
              "      <td>3682</td>\n",
              "      <td>6</td>\n",
              "      <td>2011-05-11 07:35:00</td>\n",
              "      <td>1.95</td>\n",
              "      <td>13098.0</td>\n",
              "      <td>35</td>\n",
              "    </tr>\n",
              "    <tr>\n",
              "      <th>2</th>\n",
              "      <td>16783</td>\n",
              "      <td>2178</td>\n",
              "      <td>1939</td>\n",
              "      <td>4</td>\n",
              "      <td>2011-11-20 13:20:00</td>\n",
              "      <td>5.95</td>\n",
              "      <td>15044.0</td>\n",
              "      <td>35</td>\n",
              "    </tr>\n",
              "    <tr>\n",
              "      <th>3</th>\n",
              "      <td>16971</td>\n",
              "      <td>2115</td>\n",
              "      <td>2983</td>\n",
              "      <td>1</td>\n",
              "      <td>2011-11-22 12:07:00</td>\n",
              "      <td>0.83</td>\n",
              "      <td>15525.0</td>\n",
              "      <td>35</td>\n",
              "    </tr>\n",
              "    <tr>\n",
              "      <th>4</th>\n",
              "      <td>6080</td>\n",
              "      <td>1210</td>\n",
              "      <td>2886</td>\n",
              "      <td>12</td>\n",
              "      <td>2011-05-06 09:00:00</td>\n",
              "      <td>1.65</td>\n",
              "      <td>13952.0</td>\n",
              "      <td>35</td>\n",
              "    </tr>\n",
              "  </tbody>\n",
              "</table>\n",
              "</div>"
            ],
            "text/plain": [
              "   InvoiceNo  StockCode  Description  ...  UnitPrice CustomerID  Country\n",
              "0       6141       1583          144  ...       3.75    14056.0       35\n",
              "1       6349       1300         3682  ...       1.95    13098.0       35\n",
              "2      16783       2178         1939  ...       5.95    15044.0       35\n",
              "3      16971       2115         2983  ...       0.83    15525.0       35\n",
              "4       6080       1210         2886  ...       1.65    13952.0       35\n",
              "\n",
              "[5 rows x 8 columns]"
            ]
          },
          "metadata": {
            "tags": []
          },
          "execution_count": 4
        }
      ]
    },
    {
      "cell_type": "code",
      "metadata": {
        "colab": {
          "base_uri": "https://localhost:8080/",
          "height": 195
        },
        "id": "Mwsq1E0pLSq_",
        "outputId": "74d4a493-6256-46fb-95ac-f6500eca8b89"
      },
      "source": [
        "testData.head()"
      ],
      "execution_count": null,
      "outputs": [
        {
          "output_type": "execute_result",
          "data": {
            "text/html": [
              "<div>\n",
              "<style scoped>\n",
              "    .dataframe tbody tr th:only-of-type {\n",
              "        vertical-align: middle;\n",
              "    }\n",
              "\n",
              "    .dataframe tbody tr th {\n",
              "        vertical-align: top;\n",
              "    }\n",
              "\n",
              "    .dataframe thead th {\n",
              "        text-align: right;\n",
              "    }\n",
              "</style>\n",
              "<table border=\"1\" class=\"dataframe\">\n",
              "  <thead>\n",
              "    <tr style=\"text-align: right;\">\n",
              "      <th></th>\n",
              "      <th>InvoiceNo</th>\n",
              "      <th>StockCode</th>\n",
              "      <th>Description</th>\n",
              "      <th>Quantity</th>\n",
              "      <th>InvoiceDate</th>\n",
              "      <th>CustomerID</th>\n",
              "      <th>Country</th>\n",
              "    </tr>\n",
              "  </thead>\n",
              "  <tbody>\n",
              "    <tr>\n",
              "      <th>0</th>\n",
              "      <td>3139</td>\n",
              "      <td>1709</td>\n",
              "      <td>1079</td>\n",
              "      <td>3</td>\n",
              "      <td>2011-02-22 15:22:00</td>\n",
              "      <td>16161.0</td>\n",
              "      <td>35</td>\n",
              "    </tr>\n",
              "    <tr>\n",
              "      <th>1</th>\n",
              "      <td>617</td>\n",
              "      <td>510</td>\n",
              "      <td>3457</td>\n",
              "      <td>1</td>\n",
              "      <td>2010-12-08 12:46:00</td>\n",
              "      <td>17341.0</td>\n",
              "      <td>35</td>\n",
              "    </tr>\n",
              "    <tr>\n",
              "      <th>2</th>\n",
              "      <td>14653</td>\n",
              "      <td>604</td>\n",
              "      <td>694</td>\n",
              "      <td>36</td>\n",
              "      <td>2011-10-25 13:53:00</td>\n",
              "      <td>15158.0</td>\n",
              "      <td>35</td>\n",
              "    </tr>\n",
              "    <tr>\n",
              "      <th>3</th>\n",
              "      <td>8634</td>\n",
              "      <td>1478</td>\n",
              "      <td>3473</td>\n",
              "      <td>2</td>\n",
              "      <td>2011-06-27 12:38:00</td>\n",
              "      <td>16033.0</td>\n",
              "      <td>35</td>\n",
              "    </tr>\n",
              "    <tr>\n",
              "      <th>4</th>\n",
              "      <td>15546</td>\n",
              "      <td>3216</td>\n",
              "      <td>871</td>\n",
              "      <td>1</td>\n",
              "      <td>2011-11-06 16:14:00</td>\n",
              "      <td>15351.0</td>\n",
              "      <td>35</td>\n",
              "    </tr>\n",
              "  </tbody>\n",
              "</table>\n",
              "</div>"
            ],
            "text/plain": [
              "   InvoiceNo  StockCode  Description  ...          InvoiceDate CustomerID  Country\n",
              "0       3139       1709         1079  ...  2011-02-22 15:22:00    16161.0       35\n",
              "1        617        510         3457  ...  2010-12-08 12:46:00    17341.0       35\n",
              "2      14653        604          694  ...  2011-10-25 13:53:00    15158.0       35\n",
              "3       8634       1478         3473  ...  2011-06-27 12:38:00    16033.0       35\n",
              "4      15546       3216          871  ...  2011-11-06 16:14:00    15351.0       35\n",
              "\n",
              "[5 rows x 7 columns]"
            ]
          },
          "metadata": {
            "tags": []
          },
          "execution_count": 5
        }
      ]
    },
    {
      "cell_type": "code",
      "metadata": {
        "colab": {
          "base_uri": "https://localhost:8080/",
          "height": 284
        },
        "id": "w8ipam0YGnlN",
        "outputId": "bca161ee-784a-4736-e816-416ab16e9be8"
      },
      "source": [
        "trainData.describe()"
      ],
      "execution_count": null,
      "outputs": [
        {
          "output_type": "execute_result",
          "data": {
            "text/html": [
              "<div>\n",
              "<style scoped>\n",
              "    .dataframe tbody tr th:only-of-type {\n",
              "        vertical-align: middle;\n",
              "    }\n",
              "\n",
              "    .dataframe tbody tr th {\n",
              "        vertical-align: top;\n",
              "    }\n",
              "\n",
              "    .dataframe thead th {\n",
              "        text-align: right;\n",
              "    }\n",
              "</style>\n",
              "<table border=\"1\" class=\"dataframe\">\n",
              "  <thead>\n",
              "    <tr style=\"text-align: right;\">\n",
              "      <th></th>\n",
              "      <th>InvoiceNo</th>\n",
              "      <th>StockCode</th>\n",
              "      <th>Description</th>\n",
              "      <th>Quantity</th>\n",
              "      <th>UnitPrice</th>\n",
              "      <th>CustomerID</th>\n",
              "      <th>Country</th>\n",
              "    </tr>\n",
              "  </thead>\n",
              "  <tbody>\n",
              "    <tr>\n",
              "      <th>count</th>\n",
              "      <td>284780.000000</td>\n",
              "      <td>284780.000000</td>\n",
              "      <td>284780.000000</td>\n",
              "      <td>284780.000000</td>\n",
              "      <td>284780.000000</td>\n",
              "      <td>284780.000000</td>\n",
              "      <td>284780.000000</td>\n",
              "    </tr>\n",
              "    <tr>\n",
              "      <th>mean</th>\n",
              "      <td>9955.394083</td>\n",
              "      <td>1573.386807</td>\n",
              "      <td>2023.955573</td>\n",
              "      <td>12.028468</td>\n",
              "      <td>3.451216</td>\n",
              "      <td>15288.224278</td>\n",
              "      <td>32.823846</td>\n",
              "    </tr>\n",
              "    <tr>\n",
              "      <th>std</th>\n",
              "      <td>5551.519138</td>\n",
              "      <td>843.604991</td>\n",
              "      <td>1089.812078</td>\n",
              "      <td>295.111588</td>\n",
              "      <td>78.399541</td>\n",
              "      <td>1714.336529</td>\n",
              "      <td>6.743602</td>\n",
              "    </tr>\n",
              "    <tr>\n",
              "      <th>min</th>\n",
              "      <td>0.000000</td>\n",
              "      <td>0.000000</td>\n",
              "      <td>0.000000</td>\n",
              "      <td>-80995.000000</td>\n",
              "      <td>0.000000</td>\n",
              "      <td>12346.000000</td>\n",
              "      <td>0.000000</td>\n",
              "    </tr>\n",
              "    <tr>\n",
              "      <th>25%</th>\n",
              "      <td>5069.000000</td>\n",
              "      <td>939.000000</td>\n",
              "      <td>1141.000000</td>\n",
              "      <td>2.000000</td>\n",
              "      <td>1.250000</td>\n",
              "      <td>13953.000000</td>\n",
              "      <td>35.000000</td>\n",
              "    </tr>\n",
              "    <tr>\n",
              "      <th>50%</th>\n",
              "      <td>10310.000000</td>\n",
              "      <td>1521.000000</td>\n",
              "      <td>1987.000000</td>\n",
              "      <td>5.000000</td>\n",
              "      <td>1.950000</td>\n",
              "      <td>15152.000000</td>\n",
              "      <td>35.000000</td>\n",
              "    </tr>\n",
              "    <tr>\n",
              "      <th>75%</th>\n",
              "      <td>14657.000000</td>\n",
              "      <td>2106.000000</td>\n",
              "      <td>2945.000000</td>\n",
              "      <td>12.000000</td>\n",
              "      <td>3.750000</td>\n",
              "      <td>16794.000000</td>\n",
              "      <td>35.000000</td>\n",
              "    </tr>\n",
              "    <tr>\n",
              "      <th>max</th>\n",
              "      <td>22188.000000</td>\n",
              "      <td>3683.000000</td>\n",
              "      <td>3895.000000</td>\n",
              "      <td>80995.000000</td>\n",
              "      <td>38970.000000</td>\n",
              "      <td>18287.000000</td>\n",
              "      <td>36.000000</td>\n",
              "    </tr>\n",
              "  </tbody>\n",
              "</table>\n",
              "</div>"
            ],
            "text/plain": [
              "           InvoiceNo      StockCode  ...     CustomerID        Country\n",
              "count  284780.000000  284780.000000  ...  284780.000000  284780.000000\n",
              "mean     9955.394083    1573.386807  ...   15288.224278      32.823846\n",
              "std      5551.519138     843.604991  ...    1714.336529       6.743602\n",
              "min         0.000000       0.000000  ...   12346.000000       0.000000\n",
              "25%      5069.000000     939.000000  ...   13953.000000      35.000000\n",
              "50%     10310.000000    1521.000000  ...   15152.000000      35.000000\n",
              "75%     14657.000000    2106.000000  ...   16794.000000      35.000000\n",
              "max     22188.000000    3683.000000  ...   18287.000000      36.000000\n",
              "\n",
              "[8 rows x 7 columns]"
            ]
          },
          "metadata": {
            "tags": []
          },
          "execution_count": 6
        }
      ]
    },
    {
      "cell_type": "code",
      "metadata": {
        "colab": {
          "base_uri": "https://localhost:8080/"
        },
        "id": "3HqNqDRkGnlN",
        "outputId": "4bfbede9-382c-49ef-a991-b31defa6e1c9"
      },
      "source": [
        "#Min value of Quantity is negative which is not realistic so removing the values\n",
        "print('Shape of train data',trainData.shape)\n",
        "trainData = trainData[trainData['Quantity']>0]\n",
        "print('Shape of train data',trainData.shape)"
      ],
      "execution_count": null,
      "outputs": [
        {
          "output_type": "stream",
          "text": [
            "Shape of train data (284780, 8)\n",
            "Shape of train data (278613, 8)\n"
          ],
          "name": "stdout"
        }
      ]
    },
    {
      "cell_type": "code",
      "metadata": {
        "colab": {
          "base_uri": "https://localhost:8080/"
        },
        "id": "NfEYQ74kGnlO",
        "outputId": "1dd4d8b1-cf6c-4910-fe5f-5faede565dfe"
      },
      "source": [
        "trainData.info()"
      ],
      "execution_count": null,
      "outputs": [
        {
          "output_type": "stream",
          "text": [
            "<class 'pandas.core.frame.DataFrame'>\n",
            "Int64Index: 278613 entries, 0 to 284779\n",
            "Data columns (total 8 columns):\n",
            " #   Column       Non-Null Count   Dtype  \n",
            "---  ------       --------------   -----  \n",
            " 0   InvoiceNo    278613 non-null  int64  \n",
            " 1   StockCode    278613 non-null  int64  \n",
            " 2   Description  278613 non-null  int64  \n",
            " 3   Quantity     278613 non-null  int64  \n",
            " 4   InvoiceDate  278613 non-null  object \n",
            " 5   UnitPrice    278613 non-null  float64\n",
            " 6   CustomerID   278613 non-null  float64\n",
            " 7   Country      278613 non-null  int64  \n",
            "dtypes: float64(2), int64(5), object(1)\n",
            "memory usage: 19.1+ MB\n"
          ],
          "name": "stdout"
        }
      ]
    },
    {
      "cell_type": "markdown",
      "metadata": {
        "id": "ux37VTotGnlO"
      },
      "source": [
        "No Null values in the Training data"
      ]
    },
    {
      "cell_type": "code",
      "metadata": {
        "colab": {
          "base_uri": "https://localhost:8080/"
        },
        "id": "pGAiEZrwHa6b",
        "outputId": "384614c3-c8b7-4a74-87d8-8f4b8d8eb681"
      },
      "source": [
        "for i in np.arange(10,101,10):\n",
        "  p = np.percentile(trainData.Quantity, i)\n",
        "  print('Percentile ', str(i), \"is \", str(p))"
      ],
      "execution_count": null,
      "outputs": [
        {
          "output_type": "stream",
          "text": [
            "Percentile  10 is  1.0\n",
            "Percentile  20 is  2.0\n",
            "Percentile  30 is  2.0\n",
            "Percentile  40 is  4.0\n",
            "Percentile  50 is  6.0\n",
            "Percentile  60 is  8.0\n",
            "Percentile  70 is  12.0\n",
            "Percentile  80 is  12.0\n",
            "Percentile  90 is  24.0\n",
            "Percentile  100 is  80995.0\n"
          ],
          "name": "stdout"
        }
      ]
    },
    {
      "cell_type": "code",
      "metadata": {
        "colab": {
          "base_uri": "https://localhost:8080/"
        },
        "id": "sAb5nxj_QuK4",
        "outputId": "e53bb9f7-6e76-4915-874e-7cec3cec28c3"
      },
      "source": [
        "for i in np.arange(90,101,1):\n",
        "  p = np.percentile(trainData.Quantity, i)\n",
        "  print('Percentile ', str(i), \"is \", str(p))"
      ],
      "execution_count": null,
      "outputs": [
        {
          "output_type": "stream",
          "text": [
            "Percentile  90 is  24.0\n",
            "Percentile  91 is  24.0\n",
            "Percentile  92 is  24.0\n",
            "Percentile  93 is  25.0\n",
            "Percentile  94 is  32.0\n",
            "Percentile  95 is  36.0\n",
            "Percentile  96 is  48.0\n",
            "Percentile  97 is  50.0\n",
            "Percentile  98 is  96.0\n",
            "Percentile  99 is  120.0\n",
            "Percentile  100 is  80995.0\n"
          ],
          "name": "stdout"
        }
      ]
    },
    {
      "cell_type": "code",
      "metadata": {
        "colab": {
          "base_uri": "https://localhost:8080/"
        },
        "id": "8vqYNHc-Qzn1",
        "outputId": "b704272b-af98-440d-cf66-6c1273b0a365"
      },
      "source": [
        "for i in np.arange(99,100.1,.1):\n",
        "  p = np.percentile(trainData.Quantity, i)\n",
        "  print('Percentile ', str(i), \"is \", str(p))"
      ],
      "execution_count": null,
      "outputs": [
        {
          "output_type": "stream",
          "text": [
            "Percentile  99.0 is  120.0\n",
            "Percentile  99.1 is  144.0\n",
            "Percentile  99.19999999999999 is  144.0\n",
            "Percentile  99.29999999999998 is  144.0\n",
            "Percentile  99.39999999999998 is  192.0\n",
            "Percentile  99.49999999999997 is  200.0\n",
            "Percentile  99.59999999999997 is  216.0\n",
            "Percentile  99.69999999999996 is  256.0\n",
            "Percentile  99.79999999999995 is  320.0\n",
            "Percentile  99.89999999999995 is  500.0\n",
            "Percentile  99.99999999999994 is  80994.99999881606\n"
          ],
          "name": "stdout"
        }
      ]
    },
    {
      "cell_type": "code",
      "metadata": {
        "colab": {
          "base_uri": "https://localhost:8080/"
        },
        "id": "UFbsBFQcRHXN",
        "outputId": "f1ae3b5a-64cc-456b-c8a4-c0e3010b5efe"
      },
      "source": [
        "#There is a big change in percentile of quantity from 99.89. This can be thought of as outlier\n",
        "print('Shape of train data',trainData.shape)\n",
        "#trainData = trainData[trainData['Quantity']>=500]\n",
        "trainData = trainData[trainData.Quantity < np.percentile(trainData.Quantity,99.9)]\n",
        "print('Shape of train data',trainData.shape)"
      ],
      "execution_count": null,
      "outputs": [
        {
          "output_type": "stream",
          "text": [
            "Shape of train data (278613, 8)\n",
            "Shape of train data (278323, 8)\n"
          ],
          "name": "stdout"
        }
      ]
    },
    {
      "cell_type": "code",
      "metadata": {
        "colab": {
          "base_uri": "https://localhost:8080/",
          "height": 254
        },
        "id": "U_ePZ3DrdvpQ",
        "outputId": "297c3b38-472d-4df6-e5bf-df3251d8bc03"
      },
      "source": [
        "corr_matrix = trainData.corr(method='pearson')\n",
        "corr_matrix"
      ],
      "execution_count": null,
      "outputs": [
        {
          "output_type": "execute_result",
          "data": {
            "text/html": [
              "<div>\n",
              "<style scoped>\n",
              "    .dataframe tbody tr th:only-of-type {\n",
              "        vertical-align: middle;\n",
              "    }\n",
              "\n",
              "    .dataframe tbody tr th {\n",
              "        vertical-align: top;\n",
              "    }\n",
              "\n",
              "    .dataframe thead th {\n",
              "        text-align: right;\n",
              "    }\n",
              "</style>\n",
              "<table border=\"1\" class=\"dataframe\">\n",
              "  <thead>\n",
              "    <tr style=\"text-align: right;\">\n",
              "      <th></th>\n",
              "      <th>InvoiceNo</th>\n",
              "      <th>StockCode</th>\n",
              "      <th>Description</th>\n",
              "      <th>Quantity</th>\n",
              "      <th>UnitPrice</th>\n",
              "      <th>CustomerID</th>\n",
              "      <th>Country</th>\n",
              "    </tr>\n",
              "  </thead>\n",
              "  <tbody>\n",
              "    <tr>\n",
              "      <th>InvoiceNo</th>\n",
              "      <td>1.000000</td>\n",
              "      <td>0.084850</td>\n",
              "      <td>0.026582</td>\n",
              "      <td>-0.014877</td>\n",
              "      <td>-0.005964</td>\n",
              "      <td>-0.000570</td>\n",
              "      <td>0.010956</td>\n",
              "    </tr>\n",
              "    <tr>\n",
              "      <th>StockCode</th>\n",
              "      <td>0.084850</td>\n",
              "      <td>1.000000</td>\n",
              "      <td>-0.012827</td>\n",
              "      <td>-0.003821</td>\n",
              "      <td>0.043011</td>\n",
              "      <td>0.002713</td>\n",
              "      <td>0.007056</td>\n",
              "    </tr>\n",
              "    <tr>\n",
              "      <th>Description</th>\n",
              "      <td>0.026582</td>\n",
              "      <td>-0.012827</td>\n",
              "      <td>1.000000</td>\n",
              "      <td>0.006607</td>\n",
              "      <td>-0.003094</td>\n",
              "      <td>-0.005833</td>\n",
              "      <td>-0.014649</td>\n",
              "    </tr>\n",
              "    <tr>\n",
              "      <th>Quantity</th>\n",
              "      <td>-0.014877</td>\n",
              "      <td>-0.003821</td>\n",
              "      <td>0.006607</td>\n",
              "      <td>1.000000</td>\n",
              "      <td>-0.036476</td>\n",
              "      <td>-0.047285</td>\n",
              "      <td>-0.099469</td>\n",
              "    </tr>\n",
              "    <tr>\n",
              "      <th>UnitPrice</th>\n",
              "      <td>-0.005964</td>\n",
              "      <td>0.043011</td>\n",
              "      <td>-0.003094</td>\n",
              "      <td>-0.036476</td>\n",
              "      <td>1.000000</td>\n",
              "      <td>-0.017241</td>\n",
              "      <td>-0.024367</td>\n",
              "    </tr>\n",
              "    <tr>\n",
              "      <th>CustomerID</th>\n",
              "      <td>-0.000570</td>\n",
              "      <td>0.002713</td>\n",
              "      <td>-0.005833</td>\n",
              "      <td>-0.047285</td>\n",
              "      <td>-0.017241</td>\n",
              "      <td>1.000000</td>\n",
              "      <td>0.387694</td>\n",
              "    </tr>\n",
              "    <tr>\n",
              "      <th>Country</th>\n",
              "      <td>0.010956</td>\n",
              "      <td>0.007056</td>\n",
              "      <td>-0.014649</td>\n",
              "      <td>-0.099469</td>\n",
              "      <td>-0.024367</td>\n",
              "      <td>0.387694</td>\n",
              "      <td>1.000000</td>\n",
              "    </tr>\n",
              "  </tbody>\n",
              "</table>\n",
              "</div>"
            ],
            "text/plain": [
              "             InvoiceNo  StockCode  Description  ...  UnitPrice  CustomerID   Country\n",
              "InvoiceNo     1.000000   0.084850     0.026582  ...  -0.005964   -0.000570  0.010956\n",
              "StockCode     0.084850   1.000000    -0.012827  ...   0.043011    0.002713  0.007056\n",
              "Description   0.026582  -0.012827     1.000000  ...  -0.003094   -0.005833 -0.014649\n",
              "Quantity     -0.014877  -0.003821     0.006607  ...  -0.036476   -0.047285 -0.099469\n",
              "UnitPrice    -0.005964   0.043011    -0.003094  ...   1.000000   -0.017241 -0.024367\n",
              "CustomerID   -0.000570   0.002713    -0.005833  ...  -0.017241    1.000000  0.387694\n",
              "Country       0.010956   0.007056    -0.014649  ...  -0.024367    0.387694  1.000000\n",
              "\n",
              "[7 rows x 7 columns]"
            ]
          },
          "metadata": {
            "tags": []
          },
          "execution_count": 13
        }
      ]
    },
    {
      "cell_type": "code",
      "metadata": {
        "id": "VUv4SWJHHxha"
      },
      "source": [
        "trainData['Year'] = pd.to_datetime(trainData.InvoiceDate).dt.year\n",
        "testData['Year'] = pd.to_datetime(testData.InvoiceDate).dt.year\n",
        "trainData['Week'] = pd.to_datetime(trainData.InvoiceDate).dt.week\n",
        "testData['Week'] = pd.to_datetime(testData.InvoiceDate).dt.week\n",
        "trainData['day'] = pd.to_datetime(trainData.InvoiceDate).dt.day\n",
        "testData['day'] = pd.to_datetime(testData.InvoiceDate).dt.day\n",
        "trainData['Month'] = pd.to_datetime(trainData.InvoiceDate).dt.month\n",
        "testData['Month'] = pd.to_datetime(testData.InvoiceDate).dt.month\n",
        "trainData['Weekday'] = pd.to_datetime(trainData.InvoiceDate).dt.dayofweek\n",
        "testData['Weekday'] = pd.to_datetime(testData.InvoiceDate).dt.dayofweek\n",
        "\n",
        "trainData['WeekEnd'] = (pd.to_datetime(trainData.InvoiceDate).dt.dayofweek == 6).astype(float)\n",
        "testData['WeekEnd'] = (pd.to_datetime(testData.InvoiceDate).dt.dayofweek == 6).astype(float)\n",
        "\n",
        "festive={9:1,10:1,11:1,12:1}\n",
        "trainData[\"isfestive\"]=trainData.Month.map(festive)\n",
        "trainData[\"isfestive\"]=trainData[\"isfestive\"].fillna(0)\n",
        "trainData[\"isfestive\"]=trainData[\"isfestive\"].astype('int32')\n",
        "testData[\"isfestive\"]=testData.Month.map(festive)\n",
        "testData[\"isfestive\"]=testData[\"isfestive\"].fillna(0)\n",
        "testData[\"isfestive\"]=testData[\"isfestive\"].astype('int32')\n",
        "trainData['Qtr'] = pd.to_datetime(trainData.InvoiceDate).dt.quarter\n",
        "testData['Qtr'] = pd.to_datetime(testData.InvoiceDate).dt.quarter"
      ],
      "execution_count": null,
      "outputs": []
    },
    {
      "cell_type": "code",
      "metadata": {
        "id": "WbqDvmoQH_wO"
      },
      "source": [
        "#feature_cols = [\"StockCode\", \"Quantity\" ]\n",
        "#feature_cols = [\"StockCode\",\"Description\", \t\"Quantity\",\t\"CustomerID\",\t\"Country\"]\n",
        "x = trainData.drop(['InvoiceDate','InvoiceNo', 'UnitPrice'],1, inplace= False)#trainData[feature_cols]\n",
        "y = trainData[\"UnitPrice\"]"
      ],
      "execution_count": null,
      "outputs": []
    },
    {
      "cell_type": "code",
      "metadata": {
        "id": "RVVZi8vmeOWL"
      },
      "source": [
        "from sklearn.preprocessing import PowerTransformer\n",
        "y = y.values.reshape(-1,1)\n",
        "# power transform the raw data\n",
        "power = PowerTransformer(method='yeo-johnson', standardize=True)\n",
        "y = power.fit_transform(y)"
      ],
      "execution_count": null,
      "outputs": []
    },
    {
      "cell_type": "code",
      "metadata": {
        "id": "AvtqjfkWiFef"
      },
      "source": [
        "# Split data into train and test format\n",
        "#x_train, x_cv, y_train, y_cv = train_test_split(x, y, test_size=0.2, random_state=None)"
      ],
      "execution_count": null,
      "outputs": []
    },
    {
      "cell_type": "code",
      "metadata": {
        "colab": {
          "base_uri": "https://localhost:8080/"
        },
        "id": "yTqnyW5uBTJd",
        "outputId": "2483266a-6386-4248-e536-51a5d03a4628"
      },
      "source": [
        "!pip install featuretools"
      ],
      "execution_count": null,
      "outputs": [
        {
          "output_type": "stream",
          "text": [
            "Requirement already satisfied: featuretools in /usr/local/lib/python3.6/dist-packages (0.21.0)\n",
            "Requirement already satisfied: distributed>=2.12.0 in /usr/local/lib/python3.6/dist-packages (from featuretools) (2.30.1)\n",
            "Requirement already satisfied: cloudpickle>=0.4.0 in /usr/local/lib/python3.6/dist-packages (from featuretools) (1.3.0)\n",
            "Requirement already satisfied: numpy>=1.13.3 in /usr/local/lib/python3.6/dist-packages (from featuretools) (1.18.5)\n",
            "Requirement already satisfied: scipy>=0.13.3 in /usr/local/lib/python3.6/dist-packages (from featuretools) (1.4.1)\n",
            "Requirement already satisfied: tqdm>=4.32.0 in /usr/local/lib/python3.6/dist-packages (from featuretools) (4.41.1)\n",
            "Requirement already satisfied: click>=7.0.0 in /usr/local/lib/python3.6/dist-packages (from featuretools) (7.1.2)\n",
            "Requirement already satisfied: dask[dataframe]>=2.12.0 in /usr/local/lib/python3.6/dist-packages (from featuretools) (2.12.0)\n",
            "Requirement already satisfied: psutil>=5.4.8 in /usr/local/lib/python3.6/dist-packages (from featuretools) (5.4.8)\n",
            "Requirement already satisfied: pyyaml>=3.12 in /usr/local/lib/python3.6/dist-packages (from featuretools) (3.13)\n",
            "Requirement already satisfied: pandas!=1.1.0,!=1.1.1,<2.0.0,>=0.24.1 in /usr/local/lib/python3.6/dist-packages (from featuretools) (1.1.4)\n",
            "Requirement already satisfied: zict>=0.1.3 in /usr/local/lib/python3.6/dist-packages (from distributed>=2.12.0->featuretools) (2.0.0)\n",
            "Requirement already satisfied: setuptools in /usr/local/lib/python3.6/dist-packages (from distributed>=2.12.0->featuretools) (50.3.2)\n",
            "Requirement already satisfied: msgpack>=0.6.0 in /usr/local/lib/python3.6/dist-packages (from distributed>=2.12.0->featuretools) (1.0.0)\n",
            "Requirement already satisfied: tornado>=5; python_version < \"3.8\" in /usr/local/lib/python3.6/dist-packages (from distributed>=2.12.0->featuretools) (5.1.1)\n",
            "Requirement already satisfied: toolz>=0.8.2 in /usr/local/lib/python3.6/dist-packages (from distributed>=2.12.0->featuretools) (0.11.1)\n",
            "Requirement already satisfied: tblib>=1.6.0 in /usr/local/lib/python3.6/dist-packages (from distributed>=2.12.0->featuretools) (1.7.0)\n",
            "Requirement already satisfied: contextvars; python_version < \"3.7\" in /usr/local/lib/python3.6/dist-packages (from distributed>=2.12.0->featuretools) (2.4)\n",
            "Requirement already satisfied: sortedcontainers!=2.0.0,!=2.0.1 in /usr/local/lib/python3.6/dist-packages (from distributed>=2.12.0->featuretools) (2.2.2)\n",
            "Requirement already satisfied: partd>=0.3.10; extra == \"dataframe\" in /usr/local/lib/python3.6/dist-packages (from dask[dataframe]>=2.12.0->featuretools) (1.1.0)\n",
            "Requirement already satisfied: fsspec>=0.6.0; extra == \"dataframe\" in /usr/local/lib/python3.6/dist-packages (from dask[dataframe]>=2.12.0->featuretools) (0.8.4)\n",
            "Requirement already satisfied: pytz>=2017.2 in /usr/local/lib/python3.6/dist-packages (from pandas!=1.1.0,!=1.1.1,<2.0.0,>=0.24.1->featuretools) (2018.9)\n",
            "Requirement already satisfied: python-dateutil>=2.7.3 in /usr/local/lib/python3.6/dist-packages (from pandas!=1.1.0,!=1.1.1,<2.0.0,>=0.24.1->featuretools) (2.8.1)\n",
            "Requirement already satisfied: heapdict in /usr/local/lib/python3.6/dist-packages (from zict>=0.1.3->distributed>=2.12.0->featuretools) (1.0.1)\n",
            "Requirement already satisfied: immutables>=0.9 in /usr/local/lib/python3.6/dist-packages (from contextvars; python_version < \"3.7\"->distributed>=2.12.0->featuretools) (0.14)\n",
            "Requirement already satisfied: locket in /usr/local/lib/python3.6/dist-packages (from partd>=0.3.10; extra == \"dataframe\"->dask[dataframe]>=2.12.0->featuretools) (0.2.0)\n",
            "Requirement already satisfied: six>=1.5 in /usr/local/lib/python3.6/dist-packages (from python-dateutil>=2.7.3->pandas!=1.1.0,!=1.1.1,<2.0.0,>=0.24.1->featuretools) (1.15.0)\n"
          ],
          "name": "stdout"
        }
      ]
    },
    {
      "cell_type": "code",
      "metadata": {
        "id": "fxK6IqVd-EYa"
      },
      "source": [
        "import featuretools as ft\n",
        "import featuretools.variable_types as vtypes\n",
        "\n",
        "df2=x\n",
        "es = ft.EntitySet(id = 'hackathons')\n",
        "#removing categories below or else it will just ohe them which is not ideal in many cases\n",
        "\n",
        "es.entity_from_dataframe(entity_id = 'data', dataframe = df2, make_index = True, index = 'index')\n",
        "feature_matrix, feature_list = ft.dfs(entityset = es, target_entity = 'data',\n",
        "                                      agg_primitives=[\"mean\", \"max\", \"min\", \"std\", \"skew\"],\n",
        "                                      trans_primitives=[\"time_since_previous\", 'Absolute'],\n",
        "                                      max_depth=2)\n",
        "x=feature_matrix"
      ],
      "execution_count": null,
      "outputs": []
    },
    {
      "cell_type": "code",
      "metadata": {
        "colab": {
          "base_uri": "https://localhost:8080/"
        },
        "id": "-FVrWPjY_kef",
        "outputId": "f560b9b5-af09-4068-8dae-2eaaa8b38d35"
      },
      "source": [
        "print(feature_matrix)"
      ],
      "execution_count": null,
      "outputs": [
        {
          "output_type": "stream",
          "text": [
            "        StockCode  Description  ...  ABSOLUTE(day)  ABSOLUTE(isfestive)\n",
            "index                           ...                                    \n",
            "0            1583          144  ...              6                    0\n",
            "1            1300         3682  ...             11                    0\n",
            "2            2178         1939  ...             20                    1\n",
            "3            2115         2983  ...             22                    1\n",
            "4            1210         2886  ...              6                    0\n",
            "...           ...          ...  ...            ...                  ...\n",
            "278318       1706         1081  ...              1                    0\n",
            "278319       2184         2947  ...             13                    1\n",
            "278320        667         3632  ...             16                    0\n",
            "278321       1576         3089  ...             11                    1\n",
            "278322       2603         1156  ...             22                    0\n",
            "\n",
            "[278323 rows x 26 columns]\n"
          ],
          "name": "stdout"
        }
      ]
    },
    {
      "cell_type": "code",
      "metadata": {
        "colab": {
          "base_uri": "https://localhost:8080/"
        },
        "id": "MmzvD9doDI4e",
        "outputId": "525aeb26-4226-4862-9bba-906e53e7e1f5"
      },
      "source": [
        "x.info()"
      ],
      "execution_count": null,
      "outputs": [
        {
          "output_type": "stream",
          "text": [
            "<class 'pandas.core.frame.DataFrame'>\n",
            "Int64Index: 278323 entries, 0 to 278322\n",
            "Data columns (total 26 columns):\n",
            " #   Column                 Non-Null Count   Dtype  \n",
            "---  ------                 --------------   -----  \n",
            " 0   StockCode              278323 non-null  int64  \n",
            " 1   Description            278323 non-null  int64  \n",
            " 2   Quantity               278323 non-null  int64  \n",
            " 3   CustomerID             278323 non-null  float64\n",
            " 4   Country                278323 non-null  int64  \n",
            " 5   Year                   278323 non-null  int64  \n",
            " 6   Week                   278323 non-null  int64  \n",
            " 7   day                    278323 non-null  int64  \n",
            " 8   Month                  278323 non-null  int64  \n",
            " 9   Weekday                278323 non-null  int64  \n",
            " 10  WeekEnd                278323 non-null  float64\n",
            " 11  isfestive              278323 non-null  int32  \n",
            " 12  Qtr                    278323 non-null  int64  \n",
            " 13  ABSOLUTE(Country)      278323 non-null  int64  \n",
            " 14  ABSOLUTE(CustomerID)   278323 non-null  float64\n",
            " 15  ABSOLUTE(Description)  278323 non-null  int64  \n",
            " 16  ABSOLUTE(Month)        278323 non-null  int64  \n",
            " 17  ABSOLUTE(Qtr)          278323 non-null  int64  \n",
            " 18  ABSOLUTE(Quantity)     278323 non-null  int64  \n",
            " 19  ABSOLUTE(StockCode)    278323 non-null  int64  \n",
            " 20  ABSOLUTE(Week)         278323 non-null  int64  \n",
            " 21  ABSOLUTE(WeekEnd)      278323 non-null  float64\n",
            " 22  ABSOLUTE(Weekday)      278323 non-null  int64  \n",
            " 23  ABSOLUTE(Year)         278323 non-null  int64  \n",
            " 24  ABSOLUTE(day)          278323 non-null  int64  \n",
            " 25  ABSOLUTE(isfestive)    278323 non-null  int32  \n",
            "dtypes: float64(4), int32(2), int64(20)\n",
            "memory usage: 55.2 MB\n"
          ],
          "name": "stdout"
        }
      ]
    },
    {
      "cell_type": "code",
      "metadata": {
        "id": "Eo5IfCHXET-M"
      },
      "source": [
        "x_test = testData.drop(['InvoiceDate','InvoiceNo'],1, inplace= False)\n",
        "df1=x_test\n",
        "es = ft.EntitySet(id = 'hackathonstd')\n",
        "#removing categories below or else it will just ohe them which is not ideal in many cases\n",
        "\n",
        "es.entity_from_dataframe(entity_id = 'data', dataframe = df1, make_index = True, index = 'index')\n",
        "feature_matrix, feature_list = ft.dfs(entityset = es, target_entity = 'data',\n",
        "                                      agg_primitives=[\"mean\", \"max\", \"min\", \"std\", \"skew\"],\n",
        "                                      trans_primitives=[\"time_since_previous\", 'Absolute'],\n",
        "                                      max_depth=2)\n",
        "x_test=feature_matrix"
      ],
      "execution_count": null,
      "outputs": []
    },
    {
      "cell_type": "markdown",
      "metadata": {
        "id": "_gHzk7_IaBLW"
      },
      "source": [
        "#KNN"
      ]
    },
    {
      "cell_type": "code",
      "metadata": {
        "colab": {
          "base_uri": "https://localhost:8080/"
        },
        "id": "ZUc3IxXjXzzC",
        "outputId": "8b7ddfd2-c3b5-4452-fc2f-0393e2a08e1e"
      },
      "source": [
        "from sklearn.neighbors import KNeighborsRegressor\n",
        "\n",
        "# Creating the hyperparameter grid  \n",
        "param_grid = {\"n_neighbors\": list(range(1,6))} \n",
        "  \n",
        "# Instantiating model \n",
        "model = KNeighborsRegressor(weights = 'distance', p=1)\n",
        "  \n",
        "# Instantiating RandomizedSearchCV object \n",
        "rand_search = RandomizedSearchCV(model, param_grid, cv = 5, scoring='neg_root_mean_squared_error') \n",
        "  \n",
        "rand_search.fit(x, y)\n",
        "print(rand_search.best_estimator_)\n",
        "model_best = KNeighborsRegressor(n_neighbors = rand_search.best_estimator_.n_neighbors, weights = 'distance', p=1)\n",
        "model_best.fit(x, y)\n",
        "\n",
        "y_pred_train_knn = model_best.predict(x)\n",
        "print('RMSE:', np.sqrt(metrics.mean_squared_error(y,y_pred_train_knn)))\n",
        "\n",
        "\n",
        "y_pred_test_knn = model_best.predict(x_test)\n",
        "print(y_pred_test_knn)"
      ],
      "execution_count": null,
      "outputs": [
        {
          "output_type": "stream",
          "text": [
            "KNeighborsRegressor(algorithm='auto', leaf_size=30, metric='minkowski',\n",
            "                    metric_params=None, n_jobs=None, n_neighbors=3, p=1,\n",
            "                    weights='distance')\n",
            "RMSE: 0.011596198340195592\n",
            "[[-0.18217146]\n",
            " [-0.51403466]\n",
            " [ 0.85903118]\n",
            " ...\n",
            " [-0.51403466]\n",
            " [ 1.07975018]\n",
            " [ 0.91310376]]\n"
          ],
          "name": "stdout"
        }
      ]
    },
    {
      "cell_type": "markdown",
      "metadata": {
        "id": "cFqN2Oq4e6_3"
      },
      "source": [
        "#Decision Tree Regressor"
      ]
    },
    {
      "cell_type": "code",
      "metadata": {
        "id": "iK6YAFdBe5tY"
      },
      "source": [
        "'''\n",
        "from sklearn.tree import DecisionTreeRegressor\n",
        "\n",
        "# Creating the hyperparameter grid  \n",
        "param_grid = {\"min_samples_split\": [ 30, 40,50],\n",
        "              \"max_depth\": [ 12, 14, 16]\n",
        "              } \n",
        "  \n",
        "# Instantiating model \n",
        "model = DecisionTreeRegressor()\n",
        "  \n",
        "# Instantiating RandomizedSearchCV object \n",
        "rand_search = RandomizedSearchCV(model, param_grid, cv = 3, scoring='neg_root_mean_squared_error') \n",
        "  \n",
        "rand_search.fit(x, y)\n",
        "best_params = rand_search.best_params_\n",
        "print(best_params)\n",
        "\n",
        "model_best = DecisionTreeRegressor(**best_params)\n",
        "model_best.fit(x, y)\n",
        "\n",
        "y_pred_train_dt = model_best.predict(x)\n",
        "print('RMSE:', np.sqrt(metrics.mean_squared_error(y,y_pred_train_dt)))\n",
        "\n",
        "x_test = testData.drop(['InvoiceDate','InvoiceNo'],1, inplace= False)\n",
        "y_pred_test_dt = model_best.predict(x_test)\n",
        "print(y_pred_test_dt)\n",
        "'''"
      ],
      "execution_count": null,
      "outputs": []
    },
    {
      "cell_type": "markdown",
      "metadata": {
        "id": "GILV-WQe7cez"
      },
      "source": [
        "#GBT"
      ]
    },
    {
      "cell_type": "code",
      "metadata": {
        "id": "bXJH_CwD7emn"
      },
      "source": [
        "'''\n",
        "from sklearn.ensemble import GradientBoostingRegressor\n",
        "from scipy.stats import randint as sp_randint\n",
        "\n",
        "param_grid = {'n_estimators':range(20,81,10)          \n",
        "         }\n",
        "\n",
        "model = GradientBoostingRegressor(learning_rate=0.1, min_samples_split=500,min_samples_leaf=50,max_depth=8,max_features='sqrt',subsample=0.8,random_state=10)\n",
        "  \n",
        "# Instantiating RandomizedSearchCV object \n",
        "rand_search = RandomizedSearchCV(model, param_grid, cv = 3, scoring='neg_root_mean_squared_error') \n",
        "  \n",
        "rand_search.fit(x, y.flatten())\n",
        "best_params = rand_search.best_params_\n",
        "print(best_params)\n",
        "\n",
        "model_best = GradientBoostingRegressor(**best_params, learning_rate=0.1, min_samples_split=500,min_samples_leaf=50,max_depth=8,max_features='sqrt',subsample=0.8,random_state=10)\n",
        "model_best.fit(x, y)\n",
        "\n",
        "y_pred_train_dt = model_best.predict(x)\n",
        "print('RMSE:', np.sqrt(metrics.mean_squared_error(y,y_pred_train_dt)))\n",
        "\n",
        "x_test = testData.drop(['InvoiceDate','InvoiceNo'],1, inplace= False)\n",
        "y_pred_test_dt = model_best.predict(x_test)\n",
        "print(y_pred_test_dt)\n",
        "'''"
      ],
      "execution_count": null,
      "outputs": []
    },
    {
      "cell_type": "markdown",
      "metadata": {
        "id": "fuRvMpyqvG1D"
      },
      "source": [
        "#Light GBM"
      ]
    },
    {
      "cell_type": "code",
      "metadata": {
        "id": "OOLY7RRMvP0d"
      },
      "source": [
        "'''\n",
        "!pip install lightgbm\n",
        "from lightgbm import LGBMRegressor\n",
        "from scipy.stats import randint as sp_randint\n",
        "\n",
        "param_grid = {'n_estimators': sp_randint(200, 1500),\n",
        "          'max_depth': sp_randint(2, 15)          \n",
        "         }\n",
        "\n",
        "model = LGBMRegressor(subsample=0.9)\n",
        "  \n",
        "# Instantiating RandomizedSearchCV object \n",
        "rand_search = RandomizedSearchCV(model, param_grid, cv = 3, scoring='neg_root_mean_squared_error') \n",
        "  \n",
        "rand_search.fit(x, y.flatten())\n",
        "best_params = rand_search.best_params_\n",
        "print(best_params)\n",
        "\n",
        "\n",
        "model_best = LGBMRegressor(**best_params, subsample=0.9, random_state=42, n_jobs=-1)\n",
        "model_best.fit(x, y)\n",
        "\n",
        "y_pred_train_dt = model_best.predict(x)\n",
        "print('RMSE:', np.sqrt(metrics.mean_squared_error(y,y_pred_train_dt)))\n",
        "\n",
        "x_test = testData.drop(['InvoiceDate','InvoiceNo'],1, inplace= False)\n",
        "y_pred_test_dt = model_best.predict(x_test)\n",
        "print(y_pred_test_dt)\n",
        "'''"
      ],
      "execution_count": null,
      "outputs": []
    },
    {
      "cell_type": "markdown",
      "metadata": {
        "id": "xF_PbJtruvAc"
      },
      "source": [
        "# MLP model"
      ]
    },
    {
      "cell_type": "code",
      "metadata": {
        "id": "BRLPGCgvuUtV"
      },
      "source": [
        "'''\n",
        "import keras as ks\n",
        "model_in = ks.Input(shape=(x_train.shape[1],), dtype='float32', sparse=True\n",
        "\n",
        "out = ks.layers.Dense(256, activation='relu')(model_in)\n",
        "out = ks.layers.Dense(64, activation='relu')(out)\n",
        "out = ks.layers.Dense(64, activation='relu')(out)\n",
        "out = ks.layers.Dense(32, activation='relu')(out)\n",
        "out = ks.layers.Dense(1)(out)\n",
        "model = ks.Model(model_in, out)\n",
        "\n",
        "model.compile(loss='mean_squared_error', optimizer=ks.optimizers.Adam(lr=3e-3))\n",
        "    for i in range(2):\n",
        "        with timer(f'epoch {i + 1}'):\n",
        "            model.fit(x=x_train, y=y_train, batch_size=2**(9 + i), epochs=1, verbose=1, validation_data=(x_cv, y_cv))\n",
        "'''"
      ],
      "execution_count": null,
      "outputs": []
    },
    {
      "cell_type": "markdown",
      "metadata": {
        "id": "2xTBLnzd39MF"
      },
      "source": [
        "#Post Processing"
      ]
    },
    {
      "cell_type": "code",
      "metadata": {
        "colab": {
          "base_uri": "https://localhost:8080/"
        },
        "id": "E3j_e1r7ez2z",
        "outputId": "a4d9f488-82de-4ce6-daa4-f8c39cb64e36"
      },
      "source": [
        "\n",
        "y_test_final_trans = power.inverse_transform(y_pred_test_knn.round(3).reshape(-1, 1))\n",
        "y_test_final_trans"
      ],
      "execution_count": null,
      "outputs": [
        {
          "output_type": "execute_result",
          "data": {
            "text/plain": [
              "array([[1.6502337 ],\n",
              "       [1.25003689],\n",
              "       [3.95448379],\n",
              "       ...,\n",
              "       [1.25003689],\n",
              "       [4.83256727],\n",
              "       [4.14961395]])"
            ]
          },
          "metadata": {
            "tags": []
          },
          "execution_count": 25
        }
      ]
    },
    {
      "cell_type": "code",
      "metadata": {
        "colab": {
          "base_uri": "https://localhost:8080/"
        },
        "id": "M3SVkO-VD67k",
        "outputId": "b7545443-7e82-4899-e497-34f7a30fbd52"
      },
      "source": [
        "np.argwhere(np.isnan(y_test_final_trans))"
      ],
      "execution_count": null,
      "outputs": [
        {
          "output_type": "execute_result",
          "data": {
            "text/plain": [
              "array([], shape=(0, 2), dtype=int64)"
            ]
          },
          "metadata": {
            "tags": []
          },
          "execution_count": 26
        }
      ]
    },
    {
      "cell_type": "code",
      "metadata": {
        "id": "pG9_mjgUL5dH"
      },
      "source": [
        "prediction = pd.DataFrame(np.array(y_test_final_trans.round(2)), columns=['UnitPrice']).to_csv('UnitPricesPrediction.csv')"
      ],
      "execution_count": null,
      "outputs": []
    }
  ]
}